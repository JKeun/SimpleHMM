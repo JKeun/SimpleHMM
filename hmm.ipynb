{
 "cells": [
  {
   "cell_type": "code",
   "execution_count": 1,
   "metadata": {},
   "outputs": [],
   "source": [
    "# example\n",
    "\n",
    "states = ('rainy', 'sunny')\n",
    "symbols = ('walk', 'shop', 'clean')\n",
    "\n",
    "start_prob = {\n",
    "    'rainy': 0.5,\n",
    "    'sunny': 0.5\n",
    "}\n",
    "\n",
    "trans_prob = {\n",
    "    'rainy': { 'rainy': 0.7, 'sunny': 0.3 },\n",
    "    'sunny': { 'rainy': 0.4, 'sunny': 0.6 },\n",
    "}\n",
    "\n",
    "emit_prob = {\n",
    "    'rainy': { 'walk': 0.1, 'shop': 0.4, 'clean': 0.5 },\n",
    "    'sunny': { 'walk': 0.6, 'shop': 0.3, 'clean': 0.1 },\n",
    "}\n",
    "\n",
    "sequence = ['walk', 'shop', 'clean', 'clean', 'walk', 'walk', 'walk', 'clean']\n",
    "# model = Model(states, symbols, start_prob, trans_prob, emit_prob)\n",
    "\n",
    "# print(model.evaluate(sequence))\n",
    "# print(model.decod(sequence))"
   ]
  },
  {
   "cell_type": "code",
   "execution_count": 2,
   "metadata": {},
   "outputs": [],
   "source": [
    "def _normalize_prob(prob, item_set):\n",
    "    result = {}\n",
    "    if prob is None:\n",
    "        number = len(item_set)\n",
    "        for item in item_set:\n",
    "            result[item] = 1.0 / number\n",
    "    else:\n",
    "        prob_sum = 0.0\n",
    "        for item in item_set:\n",
    "            prob_sum += prob.get(item, 0)\n",
    "            \n",
    "        if prob_sum > 0:\n",
    "            for item in item_set:\n",
    "                result[item] = prob.get(item, 0) / prob_sum\n",
    "        else:\n",
    "            for item in item_set:\n",
    "                result[item] = 0\n",
    "    \n",
    "    return result\n",
    "                \n",
    "def _normalize_prob_two_dim(prob, item_set1, item_set2):\n",
    "    result = {}\n",
    "    if prob is None:\n",
    "        for item in item_set1:\n",
    "            result[item] = _normalize_prob(None, item_set2)\n",
    "    else:\n",
    "        for item in item_set1:\n",
    "            result[item] = _normalize_prob(prob.get(item), item_set2)\n",
    "        \n",
    "    return result"
   ]
  },
  {
   "cell_type": "code",
   "execution_count": 25,
   "metadata": {},
   "outputs": [],
   "source": [
    "class Model(object):\n",
    "    \n",
    "    def __init__(self, states, symbols, start_prob=None, trans_prob=None, emit_prob=None):\n",
    "        self._states = set(states)\n",
    "        self._symbols = set(symbols)\n",
    "        self._start_prob = _normalize_prob(start_prob, self._states)\n",
    "        self._trans_prob = _normalize_prob_two_dim(trans_prob, self._states, self._states)\n",
    "        self._emit_prob = _normalize_prob_two_dim(emit_prob, self._states, self._symbols)\n",
    "        \n",
    "    def __repr__(self):\n",
    "        return \"{name}({_states}, {_symbols}, {_start_prob}, {_trans_prob}, {_emit_prob})\".format(name=self.__class__.__name__, **self.__dict__)\n",
    "    \n",
    "    def states(self):\n",
    "        \"\"\" Return the state set of this model. \"\"\"\n",
    "        return set(self._states)\n",
    "    \n",
    "    def states_number(self):\n",
    "        \"\"\" Return the number of staes. \"\"\"\n",
    "        return len(self._states)\n",
    "    \n",
    "    def symbols(self):\n",
    "        \"\"\" Return the symbol set of this model. \"\"\"\n",
    "        return set(self._symbols)\n",
    "    \n",
    "    def symbols_nubmer(self):\n",
    "        \"\"\" Return the number of symbols. \"\"\"\n",
    "        return len(self._symbols)\n",
    "    \n",
    "    def start_prob(self, state):\n",
    "        \"\"\" \n",
    "        Return the start probability of the given state.\n",
    "        \n",
    "        If 'state' is not contained in the state set of this model, 0 is returned.\n",
    "        \"\"\"\n",
    "        if state not in self._states:\n",
    "            return 0\n",
    "        return self._start_prob[state]\n",
    "    \n",
    "    def trans_prob(self, state_from, state_to):\n",
    "        \"\"\"\n",
    "        Return the probability that transition from state 'state_from' to\n",
    "        state 'state_to'.\n",
    "        \n",
    "        If either the 'state_from' or the 'state_to' are not contained in the\n",
    "        state set of this model, 0 is returned.\n",
    "        \"\"\"\n",
    "        if state_from not in self._states or state_to not in self._states:\n",
    "            return 0\n",
    "        return self._trans_prob[state_from][state_to]\n",
    "    \n",
    "    def emit_prob(self, state, symbol):\n",
    "        \"\"\"\n",
    "        Return the emission probability for 'symbol' associated with the 'state'\n",
    "        \n",
    "        If either the 'state' or the 'symbol' are not contained in this model,\n",
    "        0 is returned.\n",
    "        \"\"\"\n",
    "        if state not in self._states or symbol not in self._symbols:\n",
    "            return 0\n",
    "        return self._emit_prob[state][symbol]\n",
    "    \n",
    "    def _forward(self, sequence):\n",
    "        sequence_length = len(sequence)\n",
    "        if sequence_length == 0:\n",
    "            return []\n",
    "        \n",
    "        # initial step 1\n",
    "        alpha = [{}]\n",
    "        for state in self._states:\n",
    "            alpha[0][state] = self.start_prob(state) * self.emit_prob(state, sequence[0])\n",
    "            \n",
    "        # recursion from 2 to T\n",
    "        for index in range(1, sequence_length):\n",
    "            alpha.append({})\n",
    "            for state_to in self._states:\n",
    "                prob = 0\n",
    "                for state_from in self._states:\n",
    "                    prob += alpha[index - 1][state_from] * \\\n",
    "                        self.trans_prob(state_from, state_to)\n",
    "                alpha[index][state_to] = prob * self.emit_prob(state_to, sequence[index])\n",
    "                \n",
    "        return alpha\n",
    "    \n",
    "    def _backward(self, sequence):\n",
    "        sequence_length = len(sequence)\n",
    "        if sequence_length == 0:\n",
    "            return []\n",
    "        \n",
    "        # initial step T\n",
    "        beta = [{}]\n",
    "        for state in self._states:\n",
    "            beta[0][state] = 1\n",
    "        \n",
    "        # recursion from T-1 to 1\n",
    "        for index in range(sequence_length - 1, 0, -1):\n",
    "            beta.insert(0, {})\n",
    "            for state_from in self._states:\n",
    "                prob = 0\n",
    "                for state_to in self._states:\n",
    "                    prob += beta[1][state_to] * \\\n",
    "                        self.trans_prob(state_from, state_to) * \\\n",
    "                        self.emit_prob(state_to, sequence[index])\n",
    "                beta[0][state_from] = prob\n",
    "                \n",
    "        return beta\n",
    "    \n",
    "    def evaluate(self, sequence):\n",
    "        length = len(sequence)\n",
    "        if length == 0:\n",
    "            return 0\n",
    "        \n",
    "        prob = 0\n",
    "        alpha = self._forward(sequence)\n",
    "        for state in alpha[length -1]:\n",
    "            prob += alpha[length -1][state]\n",
    "\n",
    "        return prob\n",
    "    \n",
    "    def decode(self, sequence):\n",
    "        sequence_length = len(sequence)\n",
    "        if sequence_length == 0:\n",
    "            return []\n",
    "        \n",
    "        # initial prob for Viterbi time 1\n",
    "        delta = {}\n",
    "        for state in self._states:\n",
    "            delta[state] = self.start_prob(state) * self.emit_prob(state, sequence[0])\n",
    "        \n",
    "        # recursion Viterbi from 2 to T\n",
    "        pre = []\n",
    "        for index in range(1, sequence_length):\n",
    "            delta_bar = {}\n",
    "            pre_state = {}\n",
    "            for state_to in self._states:\n",
    "                max_prob = 0\n",
    "                max_state = None\n",
    "                for state_from in self._states:\n",
    "                    prob = delta[state_from] * self.trans_prob(state_from, state_to)\n",
    "                    if prob > max_prob:\n",
    "                        max_prob = prob\n",
    "                        max_state = state_from\n",
    "                delta_bar[state_to] = max_prob * self.emit_prob(state_to, sequence[index])\n",
    "                pre_state[state_to] = max_state\n",
    "            delta = delta_bar\n",
    "            pre.append(pre_state)\n",
    "\n",
    "        # the highest probability\n",
    "        max_state = None\n",
    "        max_prob = 0\n",
    "        # get most probable state and its backtrack\n",
    "        for state in self._states:\n",
    "            if delta[state] > max_prob:\n",
    "                max_prob = delta[state]\n",
    "                max_state = state\n",
    "        if max_state is None:\n",
    "            return []\n",
    "        \n",
    "        result = [max_state]\n",
    "        # follow the backtrack till the first observation\n",
    "        for index in range(sequence_length - 1, 0, -1):\n",
    "            max_state = pre[index -1][max_state]\n",
    "            result.insert(0, max_state)\n",
    "\n",
    "        return result, delta, pre\n",
    "    \n",
    "    def learn(self, sequence, smoothing=0):\n",
    "        \"\"\"\n",
    "        Use the given 'sequence' to find the best state transition and\n",
    "        emission probabilities.\n",
    "        \"\"\"\n",
    "        length = len(sequence)\n",
    "        alpha = self._forward(sequence)\n",
    "        beta = self._backward(sequence)\n",
    "        \n",
    "        gamma = []\n",
    "        for index in range(length):\n",
    "            prob_sum = 0\n",
    "            gamma.append({})\n",
    "            for state in self._states:\n",
    "                prob = alpha[index][state] * beta[index][state]\n",
    "                gamma[index][state] = prob\n",
    "                prob_sum += prob\n",
    "                \n",
    "            if prob_sum == 0:\n",
    "                continue\n",
    "                \n",
    "            for state in self._states:\n",
    "                gamma[index][state] /= prob_sum\n",
    "        \n",
    "        xi = []\n",
    "        for index in range(length -1):\n",
    "            prob_sum = 0\n",
    "            xi.append({})\n",
    "            for state_from in self._states:\n",
    "                xi[index][state_from] = {}\n",
    "                for state_to in self._states:\n",
    "                    prob = alpha[index][state_from] * beta[index + 1][state_to] * \\\n",
    "                        self.trans_prob(state_from, state_to) * \\\n",
    "                        self.emit_prob(state_to, sequence[index + 1])\n",
    "                    xi[index][state_from][state_to] = prob\n",
    "                    prob_sum += prob\n",
    "                    \n",
    "            if prob_sum == 0:\n",
    "                continue\n",
    "                \n",
    "            for state_from in self._states:\n",
    "                for state_to in self._states:\n",
    "                    xi[index][state_from][state_to] /= prob_sum\n",
    "                                        \n",
    "        states_number = len(self._states)\n",
    "        symbols_number = len(self._symbols)\n",
    "        for state in self._states:\n",
    "            # update start probability\n",
    "            self._start_prob[state] = (smoothing + gamma[0][state]) / (1 + states_number * smoothing)\n",
    "            \n",
    "            # update transition probability\n",
    "            gamma_sum = 0\n",
    "            for index in range(length -1):\n",
    "                gamma_sum += gamma[index][state]\n",
    "                \n",
    "            if gamma_sum > 0:\n",
    "                denominator = gamma_sum + states_number * smoothing\n",
    "                for state_to in self._states:\n",
    "                    xi_sum = 0\n",
    "                    for index in range(length -1):\n",
    "                        xi_sum += xi[index][state][state_to]\n",
    "                    self._trans_prob[state][state_to] = (smoothing + xi_sum) / denominator\n",
    "            else:\n",
    "                for state_to in self._states:\n",
    "                    self._trans_prob[state][state_to] = 0\n",
    "                    \n",
    "            # update emission probability\n",
    "            gamma_sum += gamma[length -1][state]\n",
    "            emit_gamma_sum = {}\n",
    "            for symbol in self._symbols:\n",
    "                emit_gamma_sum[symbol] = 0\n",
    "                \n",
    "            for index in range(length):\n",
    "                emit_gamma_sum[sequence[index]] += gamma[index][state]\n",
    "                \n",
    "            if gamma_sum > 0:\n",
    "                denominator = gamma_sum + symbols_number * smoothing\n",
    "                for symbol in self._symbols:\n",
    "                    self._emit_prob[state][symbol] = (smoothing + emit_gamma_sum[symbol]) / denominator\n",
    "            else:\n",
    "                for symbol in self._symbols:\n",
    "                    self._emit_prob[state][symbol] = 0"
   ]
  },
  {
   "cell_type": "code",
   "execution_count": 27,
   "metadata": {},
   "outputs": [],
   "source": [
    "model = Model(states, symbols, start_prob, trans_prob, emit_prob)"
   ]
  },
  {
   "cell_type": "code",
   "execution_count": 28,
   "metadata": {},
   "outputs": [
    {
     "data": {
      "text/plain": [
       "[{'sunny': 0.3, 'rainy': 0.05},\n",
       " {'sunny': 0.058499999999999996, 'rainy': 0.062},\n",
       " {'sunny': 0.00537, 'rainy': 0.0334},\n",
       " {'sunny': 0.0013242, 'rainy': 0.012764},\n",
       " {'sunny': 0.0027742319999999997, 'rainy': 0.0009464479999999999},\n",
       " {'sunny': 0.00116908416, 'rainy': 0.00017722064},\n",
       " {'sunny': 0.0004527700127999999, 'rainy': 5.916881120000001e-05},\n",
       " {'sunny': 2.8941265103999994e-05, 'rainy': 0.00011126308647999998}]"
      ]
     },
     "execution_count": 28,
     "metadata": {},
     "output_type": "execute_result"
    }
   ],
   "source": [
    "# forward result\n",
    "model._forward(sequence)"
   ]
  },
  {
   "cell_type": "code",
   "execution_count": 29,
   "metadata": {},
   "outputs": [
    {
     "data": {
      "text/plain": [
       "[{'sunny': 0.00038847986191999995, 'rainy': 0.00047320786015999993},\n",
       " {'sunny': 0.000918363992, 'rainy': 0.0013948396459999997},\n",
       " {'sunny': 0.0028306312, 'rainy': 0.0037426305999999996},\n",
       " {'sunny': 0.01614632, 'rainy': 0.00930926},\n",
       " {'sunny': 0.042104, 'rainy': 0.024722},\n",
       " {'sunny': 0.10880000000000001, 'rainy': 0.07339999999999999},\n",
       " {'sunny': 0.26, 'rainy': 0.38},\n",
       " {'sunny': 1, 'rainy': 1}]"
      ]
     },
     "execution_count": 29,
     "metadata": {},
     "output_type": "execute_result"
    }
   ],
   "source": [
    "# backward result\n",
    "model._backward(sequence)"
   ]
  },
  {
   "cell_type": "code",
   "execution_count": 30,
   "metadata": {},
   "outputs": [
    {
     "data": {
      "text/plain": [
       "(['sunny', 'rainy', 'rainy', 'rainy', 'sunny', 'sunny', 'sunny', 'rainy'],\n",
       " {'sunny': 8.230118399999997e-06, 'rainy': 2.743372799999999e-05},\n",
       " [{'sunny': 'sunny', 'rainy': 'sunny'},\n",
       "  {'sunny': 'sunny', 'rainy': 'rainy'},\n",
       "  {'sunny': 'rainy', 'rainy': 'rainy'},\n",
       "  {'sunny': 'rainy', 'rainy': 'rainy'},\n",
       "  {'sunny': 'sunny', 'rainy': 'sunny'},\n",
       "  {'sunny': 'sunny', 'rainy': 'sunny'},\n",
       "  {'sunny': 'sunny', 'rainy': 'sunny'}])"
      ]
     },
     "execution_count": 30,
     "metadata": {},
     "output_type": "execute_result"
    }
   ],
   "source": [
    "# decoding result\n",
    "model.decode(sequence)"
   ]
  },
  {
   "cell_type": "code",
   "execution_count": 39,
   "metadata": {},
   "outputs": [],
   "source": [
    "# learn trans_prob result\n",
    "model.learn(sequence)"
   ]
  },
  {
   "cell_type": "code",
   "execution_count": 40,
   "metadata": {},
   "outputs": [
    {
     "data": {
      "text/plain": [
       "{'sunny': {'sunny': 0.4909134950741977, 'rainy': 0.5090865049258023},\n",
       " 'rainy': {'sunny': 0.36344939035771123, 'rainy': 0.6365506096422888}}"
      ]
     },
     "execution_count": 40,
     "metadata": {},
     "output_type": "execute_result"
    }
   ],
   "source": [
    "model._trans_prob"
   ]
  },
  {
   "cell_type": "code",
   "execution_count": null,
   "metadata": {},
   "outputs": [],
   "source": [
    "model = Model(states, symbols, start_prob, trans_prob, emit_prob)"
   ]
  },
  {
   "cell_type": "code",
   "execution_count": null,
   "metadata": {},
   "outputs": [],
   "source": [
    "model.decode(sequence)"
   ]
  },
  {
   "cell_type": "code",
   "execution_count": null,
   "metadata": {},
   "outputs": [],
   "source": [
    "model.learn(sequence)"
   ]
  },
  {
   "cell_type": "code",
   "execution_count": null,
   "metadata": {},
   "outputs": [],
   "source": [
    "model.decode(sequence)"
   ]
  },
  {
   "cell_type": "code",
   "execution_count": null,
   "metadata": {},
   "outputs": [],
   "source": [
    "model.evaluate(sequence)"
   ]
  },
  {
   "cell_type": "code",
   "execution_count": null,
   "metadata": {},
   "outputs": [],
   "source": [
    "states, symbols"
   ]
  },
  {
   "cell_type": "code",
   "execution_count": null,
   "metadata": {},
   "outputs": [],
   "source": [
    "emit_prob"
   ]
  },
  {
   "cell_type": "code",
   "execution_count": null,
   "metadata": {},
   "outputs": [],
   "source": [
    "trans_prob"
   ]
  },
  {
   "cell_type": "code",
   "execution_count": null,
   "metadata": {},
   "outputs": [],
   "source": [
    "for state in states:\n",
    "    print(state)\n",
    "    for symbol in symbols:\n",
    "        print(symbol, model.emit_prob(state, symbol))"
   ]
  },
  {
   "cell_type": "code",
   "execution_count": null,
   "metadata": {
    "scrolled": true
   },
   "outputs": [],
   "source": [
    "for state_from in states:\n",
    "    print(\"from \", state_from)\n",
    "    for state_to in states:\n",
    "        print(\"to \", state_to, model.trans_prob(state_from, state_to))"
   ]
  }
 ],
 "metadata": {
  "kernelspec": {
   "display_name": "Python 3",
   "language": "python",
   "name": "python3"
  },
  "language_info": {
   "codemirror_mode": {
    "name": "ipython",
    "version": 3
   },
   "file_extension": ".py",
   "mimetype": "text/x-python",
   "name": "python",
   "nbconvert_exporter": "python",
   "pygments_lexer": "ipython3",
   "version": "3.7.1"
  }
 },
 "nbformat": 4,
 "nbformat_minor": 2
}
