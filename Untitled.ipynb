{
 "cells": [
  {
   "cell_type": "code",
   "execution_count": 2,
   "metadata": {},
   "outputs": [],
   "source": [
    "# example\n",
    "\n",
    "states = ('rainy', 'sunny')\n",
    "symbols = ('walk', 'shop', 'clean')\n",
    "\n",
    "start_prob = {\n",
    "    'rainy': 0.5,\n",
    "    'sunny': 0.5\n",
    "}\n",
    "\n",
    "trans_prob = {\n",
    "    'rainy': { 'rainy': 0.7, 'sunny': 0.3 },\n",
    "    'sunny': { 'rainy': 0.4, 'sunny': 0.6 },\n",
    "}\n",
    "\n",
    "emit_prob = {\n",
    "    'rainy': { 'walk': 0.1, 'shop': 0.4, 'clean': 0.5 },\n",
    "    'sunny': { 'walk': 0.6, 'shop': 0.3, 'clean': 0.1 },\n",
    "}\n",
    "\n",
    "sequence = ['walk', 'shop', 'clean', 'clean', 'walk', 'walk', 'walk', 'clean']"
   ]
  },
  {
   "cell_type": "code",
   "execution_count": 3,
   "metadata": {},
   "outputs": [],
   "source": [
    "# def forward()\n",
    "# def backward()\n",
    "# def decode()\n",
    "# def learn()"
   ]
  },
  {
   "cell_type": "code",
   "execution_count": 4,
   "metadata": {},
   "outputs": [],
   "source": [
    "def forward(states, symbols, start_prob, trans_prob, emit_prob, sequence):\n",
    "    length = len(sequence)\n",
    "    \n",
    "    # t == 1, alpha_1(j) = pi_j * b_j(o_1)\n",
    "    alpha = [{}]\n",
    "    for state in states:\n",
    "        alpha[0][state] = start_prob[state] * emit_prob[state][sequence[0]]\n",
    "    \n",
    "    # t >= 2, alpha_t(j) = sum_i_N   alpha_t-1(i) * a_ij * b_j(o_t)\n",
    "    for t in range(1, length):\n",
    "        alpha.append({})\n",
    "        for state_j in states:\n",
    "            prob = 0\n",
    "            for state_i in states:\n",
    "                prob += alpha[t-1][state_i] * trans_prob[state_i][state_j] * emit_prob[state_j][sequence[t]]\n",
    "            alpha[t][state_j] = prob\n",
    "    \n",
    "    return alpha"
   ]
  },
  {
   "cell_type": "code",
   "execution_count": 5,
   "metadata": {},
   "outputs": [
    {
     "data": {
      "text/plain": [
       "[{'rainy': 0.05, 'sunny': 0.3},\n",
       " {'rainy': 0.062, 'sunny': 0.058499999999999996},\n",
       " {'rainy': 0.0334, 'sunny': 0.00537},\n",
       " {'rainy': 0.012764, 'sunny': 0.0013242},\n",
       " {'rainy': 0.000946448, 'sunny': 0.0027742319999999993},\n",
       " {'rainy': 0.00017722064, 'sunny': 0.0011690841599999997},\n",
       " {'rainy': 5.9168811199999995e-05, 'sunny': 0.0004527700127999999},\n",
       " {'rainy': 0.00011126308647999998, 'sunny': 2.8941265103999994e-05}]"
      ]
     },
     "execution_count": 5,
     "metadata": {},
     "output_type": "execute_result"
    }
   ],
   "source": [
    "forward(states, symbols, start_prob, trans_prob, emit_prob, sequence)"
   ]
  },
  {
   "cell_type": "code",
   "execution_count": 6,
   "metadata": {},
   "outputs": [],
   "source": [
    "def backward(states, symbols, start_prob, trans_prob, emit_prob, sequence):\n",
    "    length = len(sequence)\n",
    "    \n",
    "    # t == T, beta_T(i) = 1\n",
    "    beta = [{}]\n",
    "    for state in states:\n",
    "        beta[0][state] = 1\n",
    "    \n",
    "    # t <= T-1, beta_t(i) = sum_j_N   a_ij * b_j(o_t+1) * beta_t+1(j)\n",
    "    for t in range(length-1, 0, -1):\n",
    "        beta.insert(0, {})\n",
    "        for state_i in states:\n",
    "            prob = 0\n",
    "            for state_j in states:\n",
    "                prob += emit_prob[state_j][sequence[t]] * beta[1][state_j] * trans_prob[state_i][state_j]\n",
    "            beta[0][state_i] = prob\n",
    "\n",
    "    return beta"
   ]
  },
  {
   "cell_type": "code",
   "execution_count": 7,
   "metadata": {},
   "outputs": [
    {
     "data": {
      "text/plain": [
       "[{'rainy': 0.00047320786015999993, 'sunny': 0.00038847986191999995},\n",
       " {'rainy': 0.0013948396459999997, 'sunny': 0.000918363992},\n",
       " {'rainy': 0.0037426305999999996, 'sunny': 0.0028306312},\n",
       " {'rainy': 0.00930926, 'sunny': 0.01614632},\n",
       " {'rainy': 0.024722, 'sunny': 0.042104},\n",
       " {'rainy': 0.0734, 'sunny': 0.10880000000000001},\n",
       " {'rainy': 0.38, 'sunny': 0.26},\n",
       " {'rainy': 1, 'sunny': 1}]"
      ]
     },
     "execution_count": 7,
     "metadata": {},
     "output_type": "execute_result"
    }
   ],
   "source": [
    "backward(states, symbols, start_prob, trans_prob, emit_prob, sequence)"
   ]
  },
  {
   "cell_type": "code",
   "execution_count": 8,
   "metadata": {},
   "outputs": [],
   "source": [
    "def decode(states, symbols, start_prob, trans_prob, emit_prob, sequence):\n",
    "    \"\"\"Viterbi decoding\"\"\"\n",
    "    length = len(sequence)\n",
    "    \n",
    "    # t == 1, v_1(j) = pi_j * b_j(o_1)\n",
    "    # t == 1, bt_1(j) = 0\n",
    "    V = {}\n",
    "    for state in states:\n",
    "        V[state] = start_prob[state] * emit_prob[state][sequence[0]]\n",
    "\n",
    "    # t >= 2, v_t(j) = max_i_N   v_t-1(i) * a_ij * b_j(o_t)\n",
    "    # t >= 2, bt_t(j) = argmax_i_N   v_t-1(i) * a_ij * b_j(o_t)\n",
    "    paths = []\n",
    "    for t in range(1, length):\n",
    "        V_tmp = {}\n",
    "        prev_state = {}\n",
    "        for state_j in states:\n",
    "            max_prob = 0\n",
    "            max_state = None\n",
    "            for state_i in states:\n",
    "                prob = V[state_i] * trans_prob[state_i][state_j]\n",
    "                if prob > max_prob:\n",
    "                    max_prob = prob\n",
    "                    max_state = state_i\n",
    "            V_tmp[state_j] = max_prob * emit_prob[state_j][sequence[t]]\n",
    "            prev_state[state_j] = max_state\n",
    "        V = V_tmp\n",
    "        paths.append(prev_state)\n",
    "    \n",
    "    # the most probable state and its backtrack\n",
    "    # find the last state (\"raniy\", because prob of 'raniy' is bigger than 'sunny' in the last V)\n",
    "    max_prob = 0\n",
    "    max_state = 0\n",
    "    for state in states:\n",
    "        if V[state] > max_prob:\n",
    "            max_prob = V[state]\n",
    "            max_state = state\n",
    "    \n",
    "    result = [max_state]\n",
    "    # follow the backtrack till the first observation (T-1 ~ 1)\n",
    "    for t in range(length -1, 0, -1):\n",
    "        max_state = paths[t-1][max_state]\n",
    "        result.insert(0, max_state)\n",
    "    \n",
    "    return result, V, paths"
   ]
  },
  {
   "cell_type": "code",
   "execution_count": 9,
   "metadata": {},
   "outputs": [
    {
     "data": {
      "text/plain": [
       "(['sunny', 'rainy', 'rainy', 'rainy', 'sunny', 'sunny', 'sunny', 'rainy'],\n",
       " {'rainy': 2.743372799999999e-05, 'sunny': 8.230118399999997e-06},\n",
       " [{'rainy': 'sunny', 'sunny': 'sunny'},\n",
       "  {'rainy': 'rainy', 'sunny': 'sunny'},\n",
       "  {'rainy': 'rainy', 'sunny': 'rainy'},\n",
       "  {'rainy': 'rainy', 'sunny': 'rainy'},\n",
       "  {'rainy': 'sunny', 'sunny': 'sunny'},\n",
       "  {'rainy': 'sunny', 'sunny': 'sunny'},\n",
       "  {'rainy': 'sunny', 'sunny': 'sunny'}])"
      ]
     },
     "execution_count": 9,
     "metadata": {},
     "output_type": "execute_result"
    }
   ],
   "source": [
    "decode(states, symbols, start_prob, trans_prob, emit_prob, sequence)\n",
    "# paths means {to: from}"
   ]
  },
  {
   "cell_type": "code",
   "execution_count": 10,
   "metadata": {},
   "outputs": [
    {
     "data": {
      "text/plain": [
       "[{'rainy': 0.05, 'sunny': 0.3},\n",
       " {'rainy': 0.062, 'sunny': 0.058499999999999996},\n",
       " {'rainy': 0.0334, 'sunny': 0.00537},\n",
       " {'rainy': 0.012764, 'sunny': 0.0013242},\n",
       " {'rainy': 0.000946448, 'sunny': 0.0027742319999999993},\n",
       " {'rainy': 0.00017722064, 'sunny': 0.0011690841599999997},\n",
       " {'rainy': 5.9168811199999995e-05, 'sunny': 0.0004527700127999999},\n",
       " {'rainy': 0.00011126308647999998, 'sunny': 2.8941265103999994e-05}]"
      ]
     },
     "execution_count": 10,
     "metadata": {},
     "output_type": "execute_result"
    }
   ],
   "source": [
    "forward(states, symbols, start_prob, trans_prob, emit_prob, sequence)"
   ]
  },
  {
   "cell_type": "code",
   "execution_count": 11,
   "metadata": {},
   "outputs": [],
   "source": [
    "def learn(states, symbols, start_prob, trans_prob, emit_prob, sequence):\n",
    "    length = len(sequence)\n",
    "    alpha = forward(states, symbols, start_prob, trans_prob, emit_prob, sequence)\n",
    "    beta = backward(states, symbols, start_prob, trans_prob, emit_prob, sequence)\n",
    "    \n",
    "    # E-step: gamma_t(j) = (alpha_t(j) * beta_t(j)) / alpha_T(q_F)\n",
    "    gamma = []\n",
    "    for t in range(length):\n",
    "        prob_sum = 0\n",
    "        gamma.append({})\n",
    "        for state in states:\n",
    "            prob = alpha[t][state] * beta[t][state]\n",
    "            prob_sum += prob\n",
    "            gamma[t][state] = prob\n",
    "        # dividing\n",
    "        for state in states:\n",
    "            gamma[t][state] /= prob_sum\n",
    "            \n",
    "    # E-step: xi_t(i, j) = (alpha_t(i) * a_ij * b_j(o_t+1) * beta_t+1(j)) / alpha_T(q_F)\n",
    "    xi = []\n",
    "    for t in range(length-1):\n",
    "        prob_sum = 0\n",
    "        xi.append({})\n",
    "        for state_i in states:\n",
    "            xi[t][state_i] = {}\n",
    "            for state_j in states:\n",
    "                prob = alpha[t][state_i] * trans_prob[state_i][state_j] * \\\n",
    "                    emit_prob[state_j][sequence[t+1]] * beta[t+1][state_j]\n",
    "                xi[t][state_i][state_j] = prob\n",
    "                prob_sum += prob       \n",
    "        # dividing\n",
    "        for state_i in states:\n",
    "            for state_j in states:\n",
    "                xi[t][state_i][state_j] /= prob_sum\n",
    "        \n",
    "    # M-step\n",
    "    for state_i in states:\n",
    "        # update transition probability: alpha^hat_ij = (sum_1_T-1 xi_t(i,j)) / sum_1_T-1 sum_1_N xi_t(i, k)\n",
    "        for state_j in states:\n",
    "            xi_sum_by_t = 0\n",
    "            for t in range(length-1):\n",
    "                xi_sum_by_t += xi[t][state_i][state_j]            \n",
    "            trans_prob[state_i][state_j] = xi_sum_by_t / (length-1)\n",
    "\n",
    "    \n",
    "    return trans_prob, xi, gamma\n",
    "    \n",
    "    \n",
    "        # update emission probability"
   ]
  },
  {
   "cell_type": "code",
   "execution_count": 12,
   "metadata": {},
   "outputs": [
    {
     "data": {
      "text/plain": [
       "({'rainy': {'rainy': 0.2668988931743712, 'sunny': 0.15377068536134234},\n",
       "  'sunny': {'rainy': 0.24303089985976425, 'sunny': 0.33629952160452214}},\n",
       " [{'rainy': {'rainy': 0.1392806629992538, 'sunny': 0.029475818099155296},\n",
       "   'sunny': {'rainy': 0.4775337017117273, 'sunny': 0.3537098171898636}},\n",
       "  {'rainy': {'rainy': 0.5792622204835202, 'sunny': 0.03755214422746087},\n",
       "   'sunny': {'rainy': 0.31232110505332655, 'sunny': 0.0708645302356923}},\n",
       "  {'rainy': {'rainy': 0.7761902406773732, 'sunny': 0.11539308485947374},\n",
       "   'sunny': {'rainy': 0.07131123340354995, 'sunny': 0.03710544105960322}},\n",
       "  {'rainy': {'rainy': 0.15754584155518278, 'sunny': 0.6899556325257403},\n",
       "   'sunny': {'rainy': 0.009339759295669653, 'sunny': 0.1431587666234073}},\n",
       "  {'rainy': {'rainy': 0.03468401493292128, 'sunny': 0.13220158591793116},\n",
       "   'sunny': {'rainy': 0.058094809896966984, 'sunny': 0.7750195892521805}},\n",
       "  {'rainy': {'rainy': 0.033622843875681575, 'sunny': 0.059155980954206676},\n",
       "   'sunny': {'rainy': 0.12674413476641266, 'sunny': 0.780477040403699}},\n",
       "  {'rainy': {'rainy': 0.14770642769666573, 'sunny': 0.012660550945428494},\n",
       "   'sunny': {'rainy': 0.6458715548906967, 'sunny': 0.19376146646720901}}],\n",
       " [{'rainy': 0.1687564810984091, 'sunny': 0.8312435189015909},\n",
       "  {'rainy': 0.6168143647109812, 'sunny': 0.38318563528901894},\n",
       "  {'rainy': 0.8915833255368468, 'sunny': 0.10841667446315317},\n",
       "  {'rainy': 0.847501474080923, 'sunny': 0.15249852591907695},\n",
       "  {'rainy': 0.16688560085085244, 'sunny': 0.8331143991491476},\n",
       "  {'rainy': 0.09277882482988827, 'sunny': 0.9072211751701118},\n",
       "  {'rainy': 0.16036697864209426, 'sunny': 0.8396330213579057},\n",
       "  {'rainy': 0.7935779825873625, 'sunny': 0.2064220174126375}])"
      ]
     },
     "execution_count": 12,
     "metadata": {},
     "output_type": "execute_result"
    }
   ],
   "source": [
    "learn(states, symbols, start_prob, trans_prob, emit_prob, sequence)"
   ]
  },
  {
   "cell_type": "code",
   "execution_count": 14,
   "metadata": {},
   "outputs": [],
   "source": [
    "xi =  [{'rainy': {'rainy': 0.1392806629992538, 'sunny': 0.029475818099155296},\n",
    "   'sunny': {'rainy': 0.4775337017117273, 'sunny': 0.3537098171898636}},\n",
    "  {'rainy': {'rainy': 0.5792622204835202, 'sunny': 0.03755214422746087},\n",
    "   'sunny': {'rainy': 0.31232110505332655, 'sunny': 0.0708645302356923}},\n",
    "  {'rainy': {'rainy': 0.7761902406773732, 'sunny': 0.11539308485947374},\n",
    "   'sunny': {'rainy': 0.07131123340354995, 'sunny': 0.03710544105960322}},\n",
    "  {'rainy': {'rainy': 0.15754584155518278, 'sunny': 0.6899556325257403},\n",
    "   'sunny': {'rainy': 0.009339759295669653, 'sunny': 0.1431587666234073}},\n",
    "  {'rainy': {'rainy': 0.03468401493292128, 'sunny': 0.13220158591793116},\n",
    "   'sunny': {'rainy': 0.058094809896966984, 'sunny': 0.7750195892521805}},\n",
    "  {'rainy': {'rainy': 0.033622843875681575, 'sunny': 0.059155980954206676},\n",
    "   'sunny': {'rainy': 0.12674413476641266, 'sunny': 0.780477040403699}},\n",
    "  {'rainy': {'rainy': 0.14770642769666573, 'sunny': 0.012660550945428494},\n",
    "   'sunny': {'rainy': 0.6458715548906967, 'sunny': 0.19376146646720901}}]"
   ]
  },
  {
   "cell_type": "code",
   "execution_count": 17,
   "metadata": {},
   "outputs": [],
   "source": [
    "gamma = [{'rainy': 0.1687564810984091, 'sunny': 0.8312435189015909},\n",
    "  {'rainy': 0.6168143647109812, 'sunny': 0.38318563528901894},\n",
    "  {'rainy': 0.8915833255368468, 'sunny': 0.10841667446315317},\n",
    "  {'rainy': 0.847501474080923, 'sunny': 0.15249852591907695},\n",
    "  {'rainy': 0.16688560085085244, 'sunny': 0.8331143991491476},\n",
    "  {'rainy': 0.09277882482988827, 'sunny': 0.9072211751701118},\n",
    "  {'rainy': 0.16036697864209426, 'sunny': 0.8396330213579057},\n",
    "  {'rainy': 0.7935779825873625, 'sunny': 0.2064220174126375}]"
   ]
  },
  {
   "cell_type": "code",
   "execution_count": null,
   "metadata": {},
   "outputs": [],
   "source": []
  },
  {
   "cell_type": "code",
   "execution_count": null,
   "metadata": {},
   "outputs": [],
   "source": []
  },
  {
   "cell_type": "code",
   "execution_count": null,
   "metadata": {},
   "outputs": [],
   "source": [
    "tmp = [{'rainy': {'rainy': 0.0024463822214142368, 'sunny': 0.0018347866660606772},\n",
    "  'sunny': {'rainy': 0.5689821892071572, 'sunny': 0.4267366419053679}},\n",
    " {'rainy': {'rainy': 0.4761904761904762, 'sunny': 0.09523809523809525},\n",
    "  'sunny': {'rainy': 0.3571428571428571, 'sunny': 0.07142857142857144}},\n",
    " {'rainy': {'rainy': 0.6944444444444445, 'sunny': 0.13888888888888892},\n",
    "  'sunny': {'rainy': 0.13888888888888892, 'sunny': 0.02777777777777778}},\n",
    " {'rainy': {'rainy': 0.11904761904761905, 'sunny': 0.7142857142857142},\n",
    "  'sunny': {'rainy': 0.02380952380952381, 'sunny': 0.14285714285714285}},\n",
    " {'rainy': {'rainy': 0.020408163265306128, 'sunny': 0.12244897959183675},\n",
    "  'sunny': {'rainy': 0.12244897959183673, 'sunny': 0.7346938775510204}},\n",
    " {'rainy': {'rainy': 0.020408163265306128, 'sunny': 0.12244897959183673},\n",
    "  'sunny': {'rainy': 0.12244897959183675, 'sunny': 0.7346938775510203}},\n",
    " {'rainy': {'rainy': 0.11904761904761908, 'sunny': 0.023809523809523815},\n",
    "  'sunny': {'rainy': 0.7142857142857143, 'sunny': 0.14285714285714288}}]"
   ]
  },
  {
   "cell_type": "code",
   "execution_count": null,
   "metadata": {},
   "outputs": [],
   "source": [
    "tmp_sum = 0\n",
    "for t in range(len(tmp)):\n",
    "    tmp_sum += tmp[t]['rainy']['rainy']\n",
    "tmp_sum / 7"
   ]
  },
  {
   "cell_type": "code",
   "execution_count": null,
   "metadata": {},
   "outputs": [],
   "source": [
    "tmp_sum = 0\n",
    "for t in range(len(tmp)):\n",
    "    tmp_sum += tmp[t]['rainy']['sunny']\n",
    "tmp_sum / 7"
   ]
  },
  {
   "cell_type": "code",
   "execution_count": null,
   "metadata": {},
   "outputs": [],
   "source": [
    "tmp_sum = 0\n",
    "for t in range(len(tmp)):\n",
    "    tmp_sum += tmp[t]['sunny']['sunny']\n",
    "tmp_sum"
   ]
  },
  {
   "cell_type": "code",
   "execution_count": null,
   "metadata": {},
   "outputs": [],
   "source": [
    "tmp_sum = 0\n",
    "for t in range(len(tmp)):\n",
    "    tmp_sum += tmp[t]['sunny']['rainy']\n",
    "tmp_sum"
   ]
  },
  {
   "cell_type": "code",
   "execution_count": null,
   "metadata": {},
   "outputs": [],
   "source": [
    "all_sum = 0\n",
    "for t in range(len(tmp)):\n",
    "    for state_i in states:\n",
    "        for state_j in states:\n",
    "            all_sum += tmp[t][state_i][state_j]\n",
    "    print(all_sum)"
   ]
  },
  {
   "cell_type": "code",
   "execution_count": null,
   "metadata": {},
   "outputs": [],
   "source": [
    "1.4519928674821854 + 1.218954968071956 + 2.2810450319280435 + 2.0480071325178146"
   ]
  },
  {
   "cell_type": "code",
   "execution_count": null,
   "metadata": {},
   "outputs": [],
   "source": [
    "tmp = [{'rainy': {'rainy': 0.04447223442390071, 'sunny': 0.03880320996653151},\n",
    "   'sunny': {'rainy': 0.3357851167292771, 'sunny': 0.5809394388802906}},\n",
    "  {'rainy': {'rainy': 0.305045681720446, 'sunny': 0.0752116694327318},\n",
    "   'sunny': {'rainy': 0.41624478101835316, 'sunny': 0.20349786782846896}},\n",
    "  {'rainy': {'rainy': 0.5263174239280104, 'sunny': 0.19497303881078884},\n",
    "   'sunny': {'rainy': 0.1606817789159391, 'sunny': 0.11802775834526169}},\n",
    "  {'rainy': {'rainy': 0.05676440608265686, 'sunny': 0.6302347967612926},\n",
    "   'sunny': {'rainy': 0.013599911618767372, 'sunny': 0.2994008855372832}},\n",
    "  {'rainy': {'rainy': 0.00594612155235657, 'sunny': 0.06441819614906763},\n",
    "   'sunny': {'rainy': 0.04135106051640363, 'sunny': 0.8882846217821722}},\n",
    "  {'rainy': {'rainy': 0.006211796031862566, 'sunny': 0.04108538603689764},\n",
    "   'sunny': {'rainy': 0.06749683962478599, 'sunny': 0.8852059783064539}},\n",
    "  {'rainy': {'rainy': 0.06382794681949196, 'sunny': 0.009880688837156605},\n",
    "   'sunny': {'rainy': 0.7087429911187432, 'sunny': 0.21754837322460832}}]"
   ]
  },
  {
   "cell_type": "code",
   "execution_count": null,
   "metadata": {},
   "outputs": [],
   "source": [
    "[x[z1][z2] for x, z1, z2 in zip(tmp, states, states)]"
   ]
  },
  {
   "cell_type": "code",
   "execution_count": null,
   "metadata": {},
   "outputs": [],
   "source": []
  }
 ],
 "metadata": {
  "kernelspec": {
   "display_name": "Python 3",
   "language": "python",
   "name": "python3"
  },
  "language_info": {
   "codemirror_mode": {
    "name": "ipython",
    "version": 3
   },
   "file_extension": ".py",
   "mimetype": "text/x-python",
   "name": "python",
   "nbconvert_exporter": "python",
   "pygments_lexer": "ipython3",
   "version": "3.7.1"
  }
 },
 "nbformat": 4,
 "nbformat_minor": 2
}
